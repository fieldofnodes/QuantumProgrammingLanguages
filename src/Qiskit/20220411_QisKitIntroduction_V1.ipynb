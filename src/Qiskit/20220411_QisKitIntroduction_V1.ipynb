{
 "cells": [
  {
   "cell_type": "markdown",
   "id": "dfd84cba",
   "metadata": {},
   "source": [
    "# Qiskit Workflow\n",
    "1. Go to the [IBM Quantum website](https://quantum-computing.ibm.com/)\n",
    "2. Create an account or log in.\n",
    "3. Copy API TOKEN\n",
    "\n",
    "```\n",
    "TOKEN = #Paste token as string \n",
    "IBMQ.save_account(TOKEN)\n",
    "```\n",
    "For an in depth instructtoin see the GitHub page [Qiskit IBM Quantum Provider\n",
    "](https://github.com/Qiskit/qiskit-ibmq-provider#configure-your-ibm-quantum-credentials)."
   ]
  },
  {
   "cell_type": "code",
   "execution_count": 1,
   "id": "a8154567-cd01-4476-a9a7-952db09e81aa",
   "metadata": {},
   "outputs": [
    {
     "ename": "ModuleNotFoundError",
     "evalue": "No module named 'qiskit'",
     "output_type": "error",
     "traceback": [
      "\u001b[0;31m---------------------------------------------------------------------------\u001b[0m",
      "\u001b[0;31mModuleNotFoundError\u001b[0m                       Traceback (most recent call last)",
      "Input \u001b[0;32mIn [1]\u001b[0m, in \u001b[0;36m<cell line: 1>\u001b[0;34m()\u001b[0m\n\u001b[0;32m----> 1\u001b[0m \u001b[38;5;28;01mfrom\u001b[39;00m \u001b[38;5;21;01mqiskit\u001b[39;00m \u001b[38;5;28;01mimport\u001b[39;00m IBMQ\n\u001b[1;32m      2\u001b[0m TOKEN \u001b[38;5;241m=\u001b[39m \u001b[38;5;124m'\u001b[39m\u001b[38;5;124ma608bf4f6e87a971d524314cbff23d9b5be9b7d8fc3d6af8c9ed2fefcaddab2174bc7f09fa10c15a8e682f0629c0eca06895d3cc46106c19a6ebe60dbfea6adc\u001b[39m\u001b[38;5;124m'\u001b[39m\n\u001b[1;32m      3\u001b[0m IBMQ\u001b[38;5;241m.\u001b[39msave_account(TOKEN)\n",
      "\u001b[0;31mModuleNotFoundError\u001b[0m: No module named 'qiskit'"
     ]
    }
   ],
   "source": [
    "from qiskit import IBMQ\n",
    "TOKEN = 'a608bf4f6e87a971d524314cbff23d9b5be9b7d8fc3d6af8c9ed2fefcaddab2174bc7f09fa10c15a8e682f0629c0eca06895d3cc46106c19a6ebe60dbfea6adc'\n",
    "IBMQ.save_account(TOKEN)"
   ]
  },
  {
   "cell_type": "markdown",
   "id": "7394749c-8ad7-4bf8-80a5-96050d5115e5",
   "metadata": {},
   "source": [
    "## Load packages"
   ]
  },
  {
   "cell_type": "code",
   "execution_count": 3,
   "id": "d203e01b-f095-4a97-b62f-4e5e041bb61d",
   "metadata": {},
   "outputs": [
    {
     "ename": "AttributeError",
     "evalue": "partially initialized module 'qiskit' has no attribute '_accelerate' (most likely due to a circular import)",
     "output_type": "error",
     "traceback": [
      "\u001b[0;31m---------------------------------------------------------------------------\u001b[0m",
      "\u001b[0;31mAttributeError\u001b[0m                            Traceback (most recent call last)",
      "Input \u001b[0;32mIn [3]\u001b[0m, in \u001b[0;36m<cell line: 1>\u001b[0;34m()\u001b[0m\n\u001b[0;32m----> 1\u001b[0m \u001b[38;5;28;01mimport\u001b[39;00m \u001b[38;5;21;01mqiskit\u001b[39;00m\n",
      "File \u001b[0;32m~/anaconda3/envs/QiskitComputing/lib/python3.9/site-packages/qiskit/__init__.py:27\u001b[0m, in \u001b[0;36m<module>\u001b[0;34m\u001b[0m\n\u001b[1;32m     21\u001b[0m \u001b[38;5;28;01mimport\u001b[39;00m \u001b[38;5;21;01mqiskit\u001b[39;00m\u001b[38;5;21;01m.\u001b[39;00m\u001b[38;5;21;01m_accelerate\u001b[39;00m\n\u001b[1;32m     23\u001b[0m \u001b[38;5;66;03m# Globally define compiled modules. The normal import mechanism will not\u001b[39;00m\n\u001b[1;32m     24\u001b[0m \u001b[38;5;66;03m# find compiled submodules in _accelerate because it relies on file paths\u001b[39;00m\n\u001b[1;32m     25\u001b[0m \u001b[38;5;66;03m# manually define them on import so people can directly import\u001b[39;00m\n\u001b[1;32m     26\u001b[0m \u001b[38;5;66;03m# qiskit._accelerate.* submodules and not have to rely on attribute access\u001b[39;00m\n\u001b[0;32m---> 27\u001b[0m sys\u001b[38;5;241m.\u001b[39mmodules[\u001b[38;5;124m\"\u001b[39m\u001b[38;5;124mqiskit._accelerate.stochastic_swap\u001b[39m\u001b[38;5;124m\"\u001b[39m] \u001b[38;5;241m=\u001b[39m \u001b[43mqiskit\u001b[49m\u001b[38;5;241;43m.\u001b[39;49m\u001b[43m_accelerate\u001b[49m\u001b[38;5;241m.\u001b[39mstochastic_swap\n\u001b[1;32m     28\u001b[0m sys\u001b[38;5;241m.\u001b[39mmodules[\u001b[38;5;124m\"\u001b[39m\u001b[38;5;124mqiskit._accelerate.pauli_expval\u001b[39m\u001b[38;5;124m\"\u001b[39m] \u001b[38;5;241m=\u001b[39m qiskit\u001b[38;5;241m.\u001b[39m_accelerate\u001b[38;5;241m.\u001b[39mpauli_expval\n\u001b[1;32m     29\u001b[0m sys\u001b[38;5;241m.\u001b[39mmodules[\u001b[38;5;124m\"\u001b[39m\u001b[38;5;124mqiskit._accelerate.dense_layout\u001b[39m\u001b[38;5;124m\"\u001b[39m] \u001b[38;5;241m=\u001b[39m qiskit\u001b[38;5;241m.\u001b[39m_accelerate\u001b[38;5;241m.\u001b[39mdense_layout\n",
      "\u001b[0;31mAttributeError\u001b[0m: partially initialized module 'qiskit' has no attribute '_accelerate' (most likely due to a circular import)"
     ]
    }
   ],
   "source": [
    "\n",
    "\n",
    "#from qiskit import IBMQ\n",
    "#from qiskit import QuantumRegister, ClassicalRegister, QuantumCircuit, assemble, transpile\n",
    "#from qiskit.providers.ibmq import least_busy\n",
    "#from qiskit.visualization import plot_histogram\n",
    "#from qiskit.circuit.random import random_circuit\n",
    "#from qiskit.providers.aer import QasmSimulator if we want a simulator\n",
    "\n",
    "#from numpy import pi\n",
    "#import numpy as np"
   ]
  },
  {
   "cell_type": "markdown",
   "id": "8644b90b-c0ad-4936-a5be-d52075b9f288",
   "metadata": {},
   "source": [
    "## Connect to a Quantum Computer\n",
    "1. Load account\n",
    "2. Get specific provider (*'ibm-q'*)\n",
    "3. Get least busy backend, in this case with $5$ qubits.\n",
    "\n",
    "For help see [Access systems with your account](https://quantum-computing.ibm.com/lab/docs/iql/manage/account/ibmq)"
   ]
  },
  {
   "cell_type": "code",
   "execution_count": 16,
   "id": "e07e6ba8-397e-471d-a911-5b6652e018ab",
   "metadata": {},
   "outputs": [
    {
     "name": "stderr",
     "output_type": "stream",
     "text": [
      "ibmqfactory.load_account:WARNING:2022-04-15 15:01:57,656: Credentials are already in use. The existing account in the session will be replaced.\n"
     ]
    },
    {
     "data": {
      "text/plain": [
       "<IBMQBackend('ibmq_belem') from IBMQ(hub='ibm-q', group='open', project='main')>"
      ]
     },
     "execution_count": 16,
     "metadata": {},
     "output_type": "execute_result"
    }
   ],
   "source": [
    "IBMQ.load_account() # Load account from disk\n",
    "provider = IBMQ.get_provider(hub='ibm-q')\n",
    "small_devices = provider.backends(filters=lambda x: x.configuration().n_qubits == 5\n",
    "                                   and not x.configuration().simulator)\n",
    "back_end = least_busy(small_devices)\n",
    "backend_name = back_end.name()\n",
    "backend = provider.get_backend(backend_name)"
   ]
  },
  {
   "cell_type": "markdown",
   "id": "008c57ee-216e-4c1a-a354-6891397e5d00",
   "metadata": {},
   "source": [
    "### Get name of the least busy qubit.\n",
    "Run separately from the previous cell"
   ]
  },
  {
   "cell_type": "code",
   "execution_count": 26,
   "id": "bebe9d21-0653-4c93-868d-0fffe82316c5",
   "metadata": {},
   "outputs": [
    {
     "data": {
      "text/html": [
       "<pre style=\"word-wrap: normal;white-space: pre;background: #fff0;line-height: 1.1;font-family: &quot;Courier New&quot;,Courier,monospace\">     ┌─────────┐┌──────────┐ ░ ┌─┐\n",
       "  q: ┤ Rx(π/2) ├┤ Rx(-π/2) ├─░─┤M├\n",
       "     └─────────┘└──────────┘ ░ └╥┘\n",
       "c: 1/═══════════════════════════╩═\n",
       "                                0 </pre>"
      ],
      "text/plain": [
       "     ┌─────────┐┌──────────┐ ░ ┌─┐\n",
       "  q: ┤ Rx(π/2) ├┤ Rx(-π/2) ├─░─┤M├\n",
       "     └─────────┘└──────────┘ ░ └╥┘\n",
       "c: 1/═══════════════════════════╩═\n",
       "                                0 "
      ]
     },
     "execution_count": 26,
     "metadata": {},
     "output_type": "execute_result"
    }
   ],
   "source": [
    "qreg_q = QuantumRegister(1, 'q')\n",
    "creg_c = ClassicalRegister(1, 'c')\n",
    "circuit = QuantumCircuit(qreg_q, creg_c)\n",
    "circuit.rx(pi/2, qreg_q[0])\n",
    "circuit.rx(-pi/2, qreg_q[0])\n",
    "circuit.barrier(qreg_q[0])\n",
    "circuit.measure(qreg_q[0], creg_c[0])\n",
    "\n",
    "circuit.draw()\n"
   ]
  },
  {
   "cell_type": "code",
   "execution_count": null,
   "id": "848ea43d-b3fe-477f-926d-38117df32fda",
   "metadata": {},
   "outputs": [],
   "source": [
    "editor = CircuitComposer(circuit=circuit)\n",
    "editor"
   ]
  },
  {
   "cell_type": "markdown",
   "id": "c0f10e19",
   "metadata": {},
   "source": [
    "### Execute the circuit on the qasm simulator"
   ]
  },
  {
   "cell_type": "code",
   "execution_count": 21,
   "id": "ed4ed2ef",
   "metadata": {},
   "outputs": [],
   "source": [
    "job = simulator.run(compiled_circuit, shots=1000)"
   ]
  },
  {
   "cell_type": "markdown",
   "id": "b0eebc3d",
   "metadata": {},
   "source": [
    "### Grab results from the job"
   ]
  },
  {
   "cell_type": "code",
   "execution_count": 22,
   "id": "145480c8",
   "metadata": {},
   "outputs": [],
   "source": [
    "result = job.result()"
   ]
  },
  {
   "cell_type": "markdown",
   "id": "51f3c561",
   "metadata": {},
   "source": [
    "### Returns counts"
   ]
  },
  {
   "cell_type": "code",
   "execution_count": 23,
   "id": "4b6624ee",
   "metadata": {},
   "outputs": [
    {
     "name": "stdout",
     "output_type": "stream",
     "text": [
      "\n",
      "Total count for 00 and 11 are: {'0': 1000}\n"
     ]
    }
   ],
   "source": [
    "counts = result.get_counts(compiled_circuit)\n",
    "print(\"\\nTotal count for 00 and 11 are:\",counts)"
   ]
  },
  {
   "cell_type": "markdown",
   "id": "0a79dbfd",
   "metadata": {},
   "source": [
    "### Draw the circuit\n"
   ]
  },
  {
   "cell_type": "code",
   "execution_count": 24,
   "id": "9f7aac51",
   "metadata": {},
   "outputs": [
    {
     "data": {
      "text/html": [
       "<pre style=\"word-wrap: normal;white-space: pre;background: #fff0;line-height: 1.1;font-family: &quot;Courier New&quot;,Courier,monospace\">     ┌─────────┐┌──────────┐┌─┐\n",
       "  q: ┤ Rx(π/2) ├┤ Rx(-π/2) ├┤M├\n",
       "     └─────────┘└──────────┘└╥┘\n",
       "c: 1/════════════════════════╩═\n",
       "                             0 </pre>"
      ],
      "text/plain": [
       "     ┌─────────┐┌──────────┐┌─┐\n",
       "  q: ┤ Rx(π/2) ├┤ Rx(-π/2) ├┤M├\n",
       "     └─────────┘└──────────┘└╥┘\n",
       "c: 1/════════════════════════╩═\n",
       "                             0 "
      ]
     },
     "execution_count": 24,
     "metadata": {},
     "output_type": "execute_result"
    }
   ],
   "source": [
    "circuit.draw()"
   ]
  },
  {
   "cell_type": "markdown",
   "id": "b4fb33c1",
   "metadata": {},
   "source": [
    "### Plot a histogram"
   ]
  },
  {
   "cell_type": "code",
   "execution_count": 25,
   "id": "3bef959f",
   "metadata": {
    "scrolled": true
   },
   "outputs": [
    {
     "data": {
      "image/png": "[encoded data removed]",
      "text/plain": [
       "<Figure size 504x360 with 1 Axes>"
      ]
     },
     "execution_count": 25,
     "metadata": {},
     "output_type": "execute_result"
    }
   ],
   "source": [
    "plot_histogram(counts)"
   ]
  },
  {
   "cell_type": "code",
   "execution_count": null,
   "id": "676f6ffb",
   "metadata": {},
   "outputs": [],
   "source": []
  },
  {
   "cell_type": "markdown",
   "id": "04e0c228",
   "metadata": {},
   "source": [
    "The gates are added to the circuit one-by-one to form the Bell state\n",
    "\n",
    "$$\\left|\\psi\\right\\rangle = \\frac{\\left|00\\right\\rangle + \\left|11\\right\\rangle}{\\sqrt{2}}$$"
   ]
  },
  {
   "cell_type": "code",
   "execution_count": 17,
   "id": "0218d41e",
   "metadata": {},
   "outputs": [
    {
     "data": {
      "text/plain": [
       "['__add__',\n",
       " '__and__',\n",
       " '__class__',\n",
       " '__delattr__',\n",
       " '__dict__',\n",
       " '__dir__',\n",
       " '__doc__',\n",
       " '__eq__',\n",
       " '__format__',\n",
       " '__ge__',\n",
       " '__getattribute__',\n",
       " '__getitem__',\n",
       " '__gt__',\n",
       " '__hash__',\n",
       " '__iadd__',\n",
       " '__iand__',\n",
       " '__init__',\n",
       " '__init_subclass__',\n",
       " '__ixor__',\n",
       " '__le__',\n",
       " '__len__',\n",
       " '__lt__',\n",
       " '__module__',\n",
       " '__ne__',\n",
       " '__new__',\n",
       " '__reduce__',\n",
       " '__reduce_ex__',\n",
       " '__repr__',\n",
       " '__setattr__',\n",
       " '__sizeof__',\n",
       " '__slotnames__',\n",
       " '__str__',\n",
       " '__subclasshook__',\n",
       " '__weakref__',\n",
       " '__xor__',\n",
       " '_ancillas',\n",
       " '_append',\n",
       " '_assign_calibration_parameters',\n",
       " '_assign_parameter',\n",
       " '_base_name',\n",
       " '_calibrations',\n",
       " '_check_compatible_regs',\n",
       " '_check_dup_param_spec',\n",
       " '_check_dups',\n",
       " '_clbit_indices',\n",
       " '_clbits',\n",
       " '_control_flow_scopes',\n",
       " '_create_creg',\n",
       " '_create_qreg',\n",
       " '_data',\n",
       " '_global_phase',\n",
       " '_increment_instances',\n",
       " '_layout',\n",
       " '_metadata',\n",
       " '_name_update',\n",
       " '_parameter_table',\n",
       " '_parameters',\n",
       " '_peek_previous_instruction_in_scope',\n",
       " '_pop_previous_instruction_in_scope',\n",
       " '_pop_scope',\n",
       " '_push_scope',\n",
       " '_qubit_indices',\n",
       " '_qubits',\n",
       " '_rebind_definition',\n",
       " '_resolve_classical_resource',\n",
       " '_unique_register_name',\n",
       " '_unroll_param_dict',\n",
       " '_unsorted_parameters',\n",
       " '_update_parameter_table',\n",
       " '_update_parameter_table_on_instruction_removal',\n",
       " 'add_bits',\n",
       " 'add_calibration',\n",
       " 'add_register',\n",
       " 'ancillas',\n",
       " 'append',\n",
       " 'assign_parameters',\n",
       " 'barrier',\n",
       " 'bind_parameters',\n",
       " 'break_loop',\n",
       " 'calibrations',\n",
       " 'cast',\n",
       " 'cbit_argument_conversion',\n",
       " 'ccx',\n",
       " 'ch',\n",
       " 'clbits',\n",
       " 'cls_instances',\n",
       " 'cls_prefix',\n",
       " 'cnot',\n",
       " 'combine',\n",
       " 'compose',\n",
       " 'continue_loop',\n",
       " 'control',\n",
       " 'copy',\n",
       " 'count_ops',\n",
       " 'cp',\n",
       " 'cregs',\n",
       " 'crx',\n",
       " 'cry',\n",
       " 'crz',\n",
       " 'cswap',\n",
       " 'csx',\n",
       " 'cu',\n",
       " 'cu1',\n",
       " 'cu3',\n",
       " 'cx',\n",
       " 'cy',\n",
       " 'cz',\n",
       " 'data',\n",
       " 'dcx',\n",
       " 'decompose',\n",
       " 'delay',\n",
       " 'depth',\n",
       " 'diagonal',\n",
       " 'draw',\n",
       " 'duration',\n",
       " 'ecr',\n",
       " 'extend',\n",
       " 'extension_lib',\n",
       " 'find_bit',\n",
       " 'for_loop',\n",
       " 'fredkin',\n",
       " 'from_qasm_file',\n",
       " 'from_qasm_str',\n",
       " 'get_instructions',\n",
       " 'global_phase',\n",
       " 'h',\n",
       " 'hamiltonian',\n",
       " 'has_register',\n",
       " 'header',\n",
       " 'i',\n",
       " 'id',\n",
       " 'if_else',\n",
       " 'if_test',\n",
       " 'initialize',\n",
       " 'instances',\n",
       " 'inverse',\n",
       " 'iso',\n",
       " 'isometry',\n",
       " 'iswap',\n",
       " 'mcp',\n",
       " 'mcrx',\n",
       " 'mcry',\n",
       " 'mcrz',\n",
       " 'mct',\n",
       " 'mcu1',\n",
       " 'mcx',\n",
       " 'measure',\n",
       " 'measure_active',\n",
       " 'measure_all',\n",
       " 'metadata',\n",
       " 'ms',\n",
       " 'name',\n",
       " 'num_ancillas',\n",
       " 'num_clbits',\n",
       " 'num_connected_components',\n",
       " 'num_nonlocal_gates',\n",
       " 'num_parameters',\n",
       " 'num_qubits',\n",
       " 'num_tensor_factors',\n",
       " 'num_unitary_factors',\n",
       " 'p',\n",
       " 'parameters',\n",
       " 'pauli',\n",
       " 'power',\n",
       " 'prefix',\n",
       " 'prepare_state',\n",
       " 'qasm',\n",
       " 'qbit_argument_conversion',\n",
       " 'qregs',\n",
       " 'qubit_duration',\n",
       " 'qubit_start_time',\n",
       " 'qubit_stop_time',\n",
       " 'qubits',\n",
       " 'r',\n",
       " 'rcccx',\n",
       " 'rccx',\n",
       " 'remove_final_measurements',\n",
       " 'repeat',\n",
       " 'reset',\n",
       " 'reverse_bits',\n",
       " 'reverse_ops',\n",
       " 'rv',\n",
       " 'rx',\n",
       " 'rxx',\n",
       " 'ry',\n",
       " 'ryy',\n",
       " 'rz',\n",
       " 'rzx',\n",
       " 'rzz',\n",
       " 's',\n",
       " 'save_amplitudes',\n",
       " 'save_amplitudes_squared',\n",
       " 'save_clifford',\n",
       " 'save_density_matrix',\n",
       " 'save_expectation_value',\n",
       " 'save_expectation_value_variance',\n",
       " 'save_matrix_product_state',\n",
       " 'save_probabilities',\n",
       " 'save_probabilities_dict',\n",
       " 'save_stabilizer',\n",
       " 'save_state',\n",
       " 'save_statevector',\n",
       " 'save_statevector_dict',\n",
       " 'save_superop',\n",
       " 'save_unitary',\n",
       " 'sdg',\n",
       " 'set_density_matrix',\n",
       " 'set_matrix_product_state',\n",
       " 'set_stabilizer',\n",
       " 'set_statevector',\n",
       " 'set_superop',\n",
       " 'set_unitary',\n",
       " 'size',\n",
       " 'snapshot',\n",
       " 'squ',\n",
       " 'swap',\n",
       " 'sx',\n",
       " 'sxdg',\n",
       " 't',\n",
       " 'tdg',\n",
       " 'tensor',\n",
       " 'to_gate',\n",
       " 'to_instruction',\n",
       " 'toffoli',\n",
       " 'u',\n",
       " 'u1',\n",
       " 'u2',\n",
       " 'u3',\n",
       " 'uc',\n",
       " 'ucrx',\n",
       " 'ucry',\n",
       " 'ucrz',\n",
       " 'unit',\n",
       " 'unitary',\n",
       " 'while_loop',\n",
       " 'width',\n",
       " 'x',\n",
       " 'y',\n",
       " 'z']"
      ]
     },
     "execution_count": 17,
     "metadata": {},
     "output_type": "execute_result"
    }
   ],
   "source": [
    "dir(circuit)"
   ]
  },
  {
   "cell_type": "code",
   "execution_count": 18,
   "id": "fde7539c",
   "metadata": {},
   "outputs": [],
   "source": [
    "from qiskit.circuit.exceptions import CircuitError"
   ]
  },
  {
   "cell_type": "code",
   "execution_count": 22,
   "id": "53ad8410",
   "metadata": {},
   "outputs": [],
   "source": [
    "qr = random_circuit(10, 10, max_operands=3, measure=True)"
   ]
  },
  {
   "cell_type": "code",
   "execution_count": 24,
   "id": "3f111897",
   "metadata": {},
   "outputs": [
    {
     "data": {
      "text/html": [
       "<pre style=\"word-wrap: normal;white-space: pre;background: #fff0;line-height: 1.1;font-family: &quot;Courier New&quot;,Courier,monospace\">                  ┌───┐┌─┐   \n",
       "q_0: ─■───────────┤ H ├┤M├───\n",
       "      │ZZ(4.5859) ├───┤└╥┘┌─┐\n",
       "q_1: ─■───────────┤ H ├─╫─┤M├\n",
       "                  └───┘ ║ └╥┘\n",
       "c: 2/═══════════════════╩══╩═\n",
       "                        0  1 </pre>"
      ],
      "text/plain": [
       "                  ┌───┐┌─┐   \n",
       "q_0: ─■───────────┤ H ├┤M├───\n",
       "      │ZZ(4.5859) ├───┤└╥┘┌─┐\n",
       "q_1: ─■───────────┤ H ├─╫─┤M├\n",
       "                  └───┘ ║ └╥┘\n",
       "c: 2/═══════════════════╩══╩═\n",
       "                        0  1 "
      ]
     },
     "execution_count": 24,
     "metadata": {},
     "output_type": "execute_result"
    }
   ],
   "source": [
    "circ.draw()"
   ]
  },
  {
   "cell_type": "code",
   "execution_count": 35,
   "id": "7f4bc76b",
   "metadata": {},
   "outputs": [
    {
     "data": {
      "text/plain": [
       "<qiskit.circuit.instructionset.InstructionSet at 0x7f9837c55540>"
      ]
     },
     "execution_count": 35,
     "metadata": {},
     "output_type": "execute_result"
    }
   ],
   "source": [
    "ci = QuantumCircuit(1)\n",
    "ci.initialize(0)"
   ]
  },
  {
   "cell_type": "code",
   "execution_count": 36,
   "id": "578268d3",
   "metadata": {},
   "outputs": [
    {
     "data": {
      "text/html": [
       "<pre style=\"word-wrap: normal;white-space: pre;background: #fff0;line-height: 1.1;font-family: &quot;Courier New&quot;,Courier,monospace\">   ┌───────────────┐\n",
       "q: ┤ Initialize(0) ├\n",
       "   └───────────────┘</pre>"
      ],
      "text/plain": [
       "   ┌───────────────┐\n",
       "q: ┤ Initialize(0) ├\n",
       "   └───────────────┘"
      ]
     },
     "execution_count": 36,
     "metadata": {},
     "output_type": "execute_result"
    }
   ],
   "source": [
    "ci.draw()"
   ]
  },
  {
   "cell_type": "code",
   "execution_count": null,
   "id": "b8e4c9eb",
   "metadata": {},
   "outputs": [],
   "source": []
  },
  {
   "cell_type": "code",
   "execution_count": null,
   "id": "7f3d61df",
   "metadata": {},
   "outputs": [],
   "source": []
  },
  {
   "cell_type": "code",
   "execution_count": null,
   "id": "7f986376",
   "metadata": {},
   "outputs": [],
   "source": []
  }
 ],
 "metadata": {
  "kernelspec": {
   "display_name": "Python 3 (ipykernel)",
   "language": "python",
   "name": "python3"
  },
  "language_info": {
   "codemirror_mode": {
    "name": "ipython",
    "version": 3
   },
   "file_extension": ".py",
   "mimetype": "text/x-python",
   "name": "python",
   "nbconvert_exporter": "python",
   "pygments_lexer": "ipython3",
   "version": "3.9.12"
  }
 },
 "nbformat": 4,
 "nbformat_minor": 5
}
