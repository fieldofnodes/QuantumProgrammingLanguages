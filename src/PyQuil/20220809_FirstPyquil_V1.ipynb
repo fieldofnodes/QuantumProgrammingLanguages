{
 "cells": [
  {
   "cell_type": "code",
   "execution_count": 1,
   "id": "7029dddb",
   "metadata": {},
   "outputs": [],
   "source": [
    "from pyquil import get_qc, Program\n",
    "from pyquil.gates import CNOT, Z, MEASURE\n",
    "from pyquil.api import local_forest_runtime\n",
    "from pyquil.quilbase import Declare"
   ]
  },
  {
   "cell_type": "code",
   "execution_count": 2,
   "id": "452ddf56",
   "metadata": {},
   "outputs": [],
   "source": [
    "prog = Program(\n",
    "    Declare(\"ro\", \"BIT\", 2),\n",
    "    Z(0),\n",
    "    CNOT(0, 1),\n",
    "    MEASURE(0, (\"ro\", 0)),\n",
    "    MEASURE(1, (\"ro\", 1)),\n",
    ").wrap_in_numshots_loop(10)"
   ]
  },
  {
   "cell_type": "code",
   "execution_count": 3,
   "id": "51398b70",
   "metadata": {},
   "outputs": [
    {
     "name": "stderr",
     "output_type": "stream",
     "text": [
      "/home/fieldofnodes/anaconda3/envs/Rigetti/lib/python3.9/site-packages/pyquil/api/_quantum_computer.py:959: RuntimeWarning: Unable to start qvm server, since the specified port 5000 is in use.\n",
      "  warnings.warn(RuntimeWarning(warning_msg))\n",
      "/home/fieldofnodes/anaconda3/envs/Rigetti/lib/python3.9/site-packages/pyquil/api/_quantum_computer.py:966: RuntimeWarning: Unable to start quilc server, since the specified port 5555 is in use.\n",
      "  warnings.warn(RuntimeWarning(warning_msg))\n"
     ]
    }
   ],
   "source": [
    "\n",
    "with local_forest_runtime():\n",
    "    qvm = get_qc('9q-square-qvm')\n",
    "    bitstrings = qvm.run(qvm.compile(prog)).readout_data.get(\"ro\")"
   ]
  },
  {
   "cell_type": "code",
   "execution_count": null,
   "id": "0005b0c1",
   "metadata": {},
   "outputs": [],
   "source": []
  }
 ],
 "metadata": {
  "kernelspec": {
   "display_name": "Python 3 (ipykernel)",
   "language": "python",
   "name": "python3"
  },
  "language_info": {
   "codemirror_mode": {
    "name": "ipython",
    "version": 3
   },
   "file_extension": ".py",
   "mimetype": "text/x-python",
   "name": "python",
   "nbconvert_exporter": "python",
   "pygments_lexer": "ipython3",
   "version": "3.9.12"
  }
 },
 "nbformat": 4,
 "nbformat_minor": 5
}
